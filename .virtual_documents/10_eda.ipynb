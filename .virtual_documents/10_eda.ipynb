import pandas as pd
import matplotlib.pyplot as plt
import numpy as np

# Show plots inline
%matplotlib inline

# Load feature table
df = pd.read_parquet("/Users/tanvipatel/citysense/data/interim/feature_table.parquet")
df.head()



plt.figure(figsize=(14,5))
plt.plot(df["date"], df["complaints_city"], color="steelblue")
plt.title("NYC 311 Daily Complaints")
plt.xlabel("Date")
plt.ylabel("Complaints")
plt.show()


plt.scatter(df["temp_avg_c"], df["complaints_city"], alpha=0.5)
plt.title("Complaints vs Average Temperature")
plt.xlabel("Average Temperatue (Celcius)")
plt.ylabel("Complaints")
plt.show()


holiday_means = df.groupby("is_holiday")["complaints_city"].mean()
holiday_means.index = holiday_means.index.map({True:"Holiday", False: "Non-holiday"})
holiday_means


df = pd.read_parquet("/Users/tanvipatel/citysense/data/interim/feature_table.parquet").copy()

df["date"] = pd.to_datetime(df["date"])
df["dow"] = df["date"].dt.dayofweek
df["is_weekend"] = df["dow"].isin([5,6]).astype(int)
df["month"] = df["date"].dt.month
df["year"] = df["date"].dt.year

df.head()


missing_pct = df.isna().mean().sort_values(ascending=False)
missing_pct


to_drop = [c for c in ["wdir", "wpgt", "tsun"] if c in df.columns]
df = df.drop(columns=to_drop)
to_drop


num_cols = df.select_dtypes(include=[np.number]).columns.tolist()
target = "complaints_city"
num_features = [c for c in num_cols if c!= target]
df[num_features] = df[num_features].ffill().bfill()
df[num_features] = df[num_features].fillna(df[num_features].median())
df.isna().sum().sort_values(ascending=False).head(10)


weekday_mean = df.groupby("dow")[target].mean()
weekday_labels = ["Mon", "Tue","Wed","Thu","Fri","Sat","Sun"]
plt.figure(figsize=(8,4))
plt.bar(weekday_labels, weekday_mean.sort_index().values)
plt.title("Avg complaints by weekday")
plt.ylabel("Complaints")
plt.show()

df["holiday_label"] = df["is_holiday"].map({True: "Holiday", False: "Non-holiday"})
holiday_mean = df.groupby("holiday_label")[target].mean()
holiday_mean


corr = df.select_dtypes(include=[np.number]).corr()[[target]].sort_values(by=target, ascending=False)
corr.head(12)


out_path = "/Users/tanvipatel/citysense/data/processed/model_table.parquet"
df.to_parquet(out_path, index=False)
out_path


TARGET = "complaints_city"
df = pd.read_parquet("/Users/tanvipatel/citysense/data/processed/model_table.parquet").copy()
df["date"] = pd.to_datetime(df["date"])
df = df.sort_values("date")
if "holiday_label" not in df.columns and "is_holiday" in df.columns:
    df["holiday_label"] = df["is_holiday"].map({True: "Holiday", False: "Non-holiday"})

df["lag1"] = df[TARGET].shift(1)
df["lag7"] = df[TARGET].shift(7)
df["roll7_mean"] = df[TARGET].shift(1).rolling(7).mean()
df["dow"] = df["date"].dt.dayofweek

df = df.dropna(subset=["lag1", "lag7", "roll7_mean"]).reset_index(drop=True)
df.head()


VALID_DAYS = 90
cutoff = df["date"].max() - pd.Timedelta(days=VALID_DAYS)

train = df[df["date"] <= cutoff].copy()
valid = df[df["date"] > cutoff].copy()

len(train), len(valid), train["date"].min(), train["date"].max(), valid["date"].min(), valid["date"].max()


from sklearn.metrics import mean_absolute_error, mean_squared_error
def rmse(y_true, y_pred):
    return mean_squared_error(y_true, y_pred, squared=False)

def smape(y_true, y_pred):
    y_true = np.array(y_true, dtype=float)
    y_pred = np.array(y_pred, dtype=float)
    denom = (np.abs(y_true) + np.abs(y_pred)) / 2.0
    denom[denom == 0] = 1e-9
    return np.mean(np.abs(y_true - y_pred) / denom) * 100


y_true = valid[TARGET].values
y_pred_naive = valid["lag1"].values

print("Naive (yesterday) baseline")
print("MAE :", mean_absolute_error(y_true, y_pred_naive))
print("RMSE:", rmse(y_true, y_pred_naive))
print("sMAPE ()%:", smape(y_true, y_pred_naive))


from sklearn.linear_model import LinearRegression

feature_cols = [
    "lag1","lag7","roll7_mean","dow",
]

# Add a couple of weather features if present
for c in ["temp_avg_c","precip_mm","wind_kmh","pressure_hpa"]:
    if c in df.columns:
        feature_cols.append(c)

X_train = train[feature_cols]
X_valid = valid[feature_cols]
y_train = train[TARGET]
y_valid = valid[TARGET]

lin = LinearRegression()
lin.fit(X_train, y_train)
pred_lr = lin.predict(X_valid)

print("Linear Regression")
print("MAE :", mean_absolute_error(y_valid, pred_lr))
print("RMSE:", rmse(y_valid, pred_lr))
print("sMAPE (%):", smape(y_valid, pred_lr))
feature_cols
















